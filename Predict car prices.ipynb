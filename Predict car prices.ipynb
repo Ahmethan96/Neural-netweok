{
  "nbformat": 4,
  "nbformat_minor": 0,
  "metadata": {
    "colab": {
      "provenance": [],
      "authorship_tag": "ABX9TyO5WymbKCq2Ykglg3HRRGUp",
      "include_colab_link": true
    },
    "kernelspec": {
      "name": "python3",
      "display_name": "Python 3"
    },
    "language_info": {
      "name": "python"
    }
  },
  "cells": [
    {
      "cell_type": "markdown",
      "metadata": {
        "id": "view-in-github",
        "colab_type": "text"
      },
      "source": [
        "<a href=\"https://colab.research.google.com/github/Ahmethan96/Neural-netweok/blob/main/Predict%20car%20prices.ipynb\" target=\"_parent\"><img src=\"https://colab.research.google.com/assets/colab-badge.svg\" alt=\"Open In Colab\"/></a>"
      ]
    },
    {
      "cell_type": "code",
      "execution_count": 2,
      "metadata": {
        "id": "4nbC-D72yWtf"
      },
      "outputs": [],
      "source": [
        "import torch\n",
        "import torch.nn as nn\n",
        "import pandas as pd\n",
        "import matplotlib.pyplot as plt\n",
        "\n",
        "import torch.nn.functional as F\n",
        "from torch.utils.data import DataLoader, TensorDataset, random_split"
      ]
    },
    {
      "cell_type": "code",
      "source": [
        "data_frame = pd.read_csv('car_models.csv')\n",
        "data_frame.head()"
      ],
      "metadata": {
        "colab": {
          "base_uri": "https://localhost:8080/",
          "height": 206
        },
        "id": "9NW1QCevya6G",
        "outputId": "747baddd-42a4-4e05-ab5e-5f1aa40f7af0"
      },
      "execution_count": 3,
      "outputs": [
        {
          "output_type": "execute_result",
          "data": {
            "text/plain": [
              "  Car_Name  Year  Selling_Price  Present_Price  Kms_Driven Fuel_Type  \\\n",
              "0     ritz  2014           3.35           5.59       27000    Petrol   \n",
              "1      sx4  2013           4.75           9.54       43000    Diesel   \n",
              "2     ciaz  2017           7.25           9.85        6900    Petrol   \n",
              "3  wagon r  2011           2.85           4.15        5200    Petrol   \n",
              "4    swift  2014           4.60           6.87       42450    Diesel   \n",
              "\n",
              "  Seller_Type Transmission  Owner  \n",
              "0      Dealer       Manual      0  \n",
              "1      Dealer       Manual      0  \n",
              "2      Dealer       Manual      0  \n",
              "3      Dealer       Manual      0  \n",
              "4      Dealer       Manual      0  "
            ],
            "text/html": [
              "\n",
              "  <div id=\"df-b1bd990a-e59c-4f79-a478-52e4c832a546\">\n",
              "    <div class=\"colab-df-container\">\n",
              "      <div>\n",
              "<style scoped>\n",
              "    .dataframe tbody tr th:only-of-type {\n",
              "        vertical-align: middle;\n",
              "    }\n",
              "\n",
              "    .dataframe tbody tr th {\n",
              "        vertical-align: top;\n",
              "    }\n",
              "\n",
              "    .dataframe thead th {\n",
              "        text-align: right;\n",
              "    }\n",
              "</style>\n",
              "<table border=\"1\" class=\"dataframe\">\n",
              "  <thead>\n",
              "    <tr style=\"text-align: right;\">\n",
              "      <th></th>\n",
              "      <th>Car_Name</th>\n",
              "      <th>Year</th>\n",
              "      <th>Selling_Price</th>\n",
              "      <th>Present_Price</th>\n",
              "      <th>Kms_Driven</th>\n",
              "      <th>Fuel_Type</th>\n",
              "      <th>Seller_Type</th>\n",
              "      <th>Transmission</th>\n",
              "      <th>Owner</th>\n",
              "    </tr>\n",
              "  </thead>\n",
              "  <tbody>\n",
              "    <tr>\n",
              "      <th>0</th>\n",
              "      <td>ritz</td>\n",
              "      <td>2014</td>\n",
              "      <td>3.35</td>\n",
              "      <td>5.59</td>\n",
              "      <td>27000</td>\n",
              "      <td>Petrol</td>\n",
              "      <td>Dealer</td>\n",
              "      <td>Manual</td>\n",
              "      <td>0</td>\n",
              "    </tr>\n",
              "    <tr>\n",
              "      <th>1</th>\n",
              "      <td>sx4</td>\n",
              "      <td>2013</td>\n",
              "      <td>4.75</td>\n",
              "      <td>9.54</td>\n",
              "      <td>43000</td>\n",
              "      <td>Diesel</td>\n",
              "      <td>Dealer</td>\n",
              "      <td>Manual</td>\n",
              "      <td>0</td>\n",
              "    </tr>\n",
              "    <tr>\n",
              "      <th>2</th>\n",
              "      <td>ciaz</td>\n",
              "      <td>2017</td>\n",
              "      <td>7.25</td>\n",
              "      <td>9.85</td>\n",
              "      <td>6900</td>\n",
              "      <td>Petrol</td>\n",
              "      <td>Dealer</td>\n",
              "      <td>Manual</td>\n",
              "      <td>0</td>\n",
              "    </tr>\n",
              "    <tr>\n",
              "      <th>3</th>\n",
              "      <td>wagon r</td>\n",
              "      <td>2011</td>\n",
              "      <td>2.85</td>\n",
              "      <td>4.15</td>\n",
              "      <td>5200</td>\n",
              "      <td>Petrol</td>\n",
              "      <td>Dealer</td>\n",
              "      <td>Manual</td>\n",
              "      <td>0</td>\n",
              "    </tr>\n",
              "    <tr>\n",
              "      <th>4</th>\n",
              "      <td>swift</td>\n",
              "      <td>2014</td>\n",
              "      <td>4.60</td>\n",
              "      <td>6.87</td>\n",
              "      <td>42450</td>\n",
              "      <td>Diesel</td>\n",
              "      <td>Dealer</td>\n",
              "      <td>Manual</td>\n",
              "      <td>0</td>\n",
              "    </tr>\n",
              "  </tbody>\n",
              "</table>\n",
              "</div>\n",
              "      <button class=\"colab-df-convert\" onclick=\"convertToInteractive('df-b1bd990a-e59c-4f79-a478-52e4c832a546')\"\n",
              "              title=\"Convert this dataframe to an interactive table.\"\n",
              "              style=\"display:none;\">\n",
              "        \n",
              "  <svg xmlns=\"http://www.w3.org/2000/svg\" height=\"24px\"viewBox=\"0 0 24 24\"\n",
              "       width=\"24px\">\n",
              "    <path d=\"M0 0h24v24H0V0z\" fill=\"none\"/>\n",
              "    <path d=\"M18.56 5.44l.94 2.06.94-2.06 2.06-.94-2.06-.94-.94-2.06-.94 2.06-2.06.94zm-11 1L8.5 8.5l.94-2.06 2.06-.94-2.06-.94L8.5 2.5l-.94 2.06-2.06.94zm10 10l.94 2.06.94-2.06 2.06-.94-2.06-.94-.94-2.06-.94 2.06-2.06.94z\"/><path d=\"M17.41 7.96l-1.37-1.37c-.4-.4-.92-.59-1.43-.59-.52 0-1.04.2-1.43.59L10.3 9.45l-7.72 7.72c-.78.78-.78 2.05 0 2.83L4 21.41c.39.39.9.59 1.41.59.51 0 1.02-.2 1.41-.59l7.78-7.78 2.81-2.81c.8-.78.8-2.07 0-2.86zM5.41 20L4 18.59l7.72-7.72 1.47 1.35L5.41 20z\"/>\n",
              "  </svg>\n",
              "      </button>\n",
              "      \n",
              "  <style>\n",
              "    .colab-df-container {\n",
              "      display:flex;\n",
              "      flex-wrap:wrap;\n",
              "      gap: 12px;\n",
              "    }\n",
              "\n",
              "    .colab-df-convert {\n",
              "      background-color: #E8F0FE;\n",
              "      border: none;\n",
              "      border-radius: 50%;\n",
              "      cursor: pointer;\n",
              "      display: none;\n",
              "      fill: #1967D2;\n",
              "      height: 32px;\n",
              "      padding: 0 0 0 0;\n",
              "      width: 32px;\n",
              "    }\n",
              "\n",
              "    .colab-df-convert:hover {\n",
              "      background-color: #E2EBFA;\n",
              "      box-shadow: 0px 1px 2px rgba(60, 64, 67, 0.3), 0px 1px 3px 1px rgba(60, 64, 67, 0.15);\n",
              "      fill: #174EA6;\n",
              "    }\n",
              "\n",
              "    [theme=dark] .colab-df-convert {\n",
              "      background-color: #3B4455;\n",
              "      fill: #D2E3FC;\n",
              "    }\n",
              "\n",
              "    [theme=dark] .colab-df-convert:hover {\n",
              "      background-color: #434B5C;\n",
              "      box-shadow: 0px 1px 3px 1px rgba(0, 0, 0, 0.15);\n",
              "      filter: drop-shadow(0px 1px 2px rgba(0, 0, 0, 0.3));\n",
              "      fill: #FFFFFF;\n",
              "    }\n",
              "  </style>\n",
              "\n",
              "      <script>\n",
              "        const buttonEl =\n",
              "          document.querySelector('#df-b1bd990a-e59c-4f79-a478-52e4c832a546 button.colab-df-convert');\n",
              "        buttonEl.style.display =\n",
              "          google.colab.kernel.accessAllowed ? 'block' : 'none';\n",
              "\n",
              "        async function convertToInteractive(key) {\n",
              "          const element = document.querySelector('#df-b1bd990a-e59c-4f79-a478-52e4c832a546');\n",
              "          const dataTable =\n",
              "            await google.colab.kernel.invokeFunction('convertToInteractive',\n",
              "                                                     [key], {});\n",
              "          if (!dataTable) return;\n",
              "\n",
              "          const docLinkHtml = 'Like what you see? Visit the ' +\n",
              "            '<a target=\"_blank\" href=https://colab.research.google.com/notebooks/data_table.ipynb>data table notebook</a>'\n",
              "            + ' to learn more about interactive tables.';\n",
              "          element.innerHTML = '';\n",
              "          dataTable['output_type'] = 'display_data';\n",
              "          await google.colab.output.renderOutput(dataTable, element);\n",
              "          const docLink = document.createElement('div');\n",
              "          docLink.innerHTML = docLinkHtml;\n",
              "          element.appendChild(docLink);\n",
              "        }\n",
              "      </script>\n",
              "    </div>\n",
              "  </div>\n",
              "  "
            ]
          },
          "metadata": {},
          "execution_count": 3
        }
      ]
    },
    {
      "cell_type": "code",
      "source": [
        "## I categorized each of my variables into numbers by using\n",
        "c = data_frame.Transmission.astype(\"category\")\n",
        "\n",
        "# Now, I would like to know if there is a way to obtain which original value \n",
        "# corresponds to each value.\n",
        "d = dict(enumerate(c.cat.categories))\n",
        "\n",
        "print(d)\n"
      ],
      "metadata": {
        "colab": {
          "base_uri": "https://localhost:8080/"
        },
        "id": "lOYJWWaHKRgv",
        "outputId": "cdd76f40-642a-4c2e-e0f5-73c08080fde3"
      },
      "execution_count": 4,
      "outputs": [
        {
          "output_type": "stream",
          "name": "stdout",
          "text": [
            "{0: 'Automatic', 1: 'Manual'}\n"
          ]
        }
      ]
    },
    {
      "cell_type": "code",
      "source": [
        "a = data_frame.Fuel_Type.astype(\"category\")\n",
        "b = dict(enumerate(a.cat.categories))\n",
        "\n",
        "print(b)\n"
      ],
      "metadata": {
        "colab": {
          "base_uri": "https://localhost:8080/"
        },
        "id": "LhK-sYPDQFqr",
        "outputId": "46b2e92e-6750-4b8a-b15a-d5f82097f61d"
      },
      "execution_count": 5,
      "outputs": [
        {
          "output_type": "stream",
          "name": "stdout",
          "text": [
            "{0: 'CNG', 1: 'Diesel', 2: 'Petrol'}\n"
          ]
        }
      ]
    },
    {
      "cell_type": "code",
      "source": [
        "import random \n",
        "your_name = \"ibrahim ahmethan\"\n",
        "print(ord(\"i\"))\n",
        "print(ord(your_name[0]))\n",
        "print(ord(your_name[1]))\n",
        "print(ord(your_name[2])) \n",
        "print(ord(your_name[3])) # unicode code of a specified character.\n",
        "print(chr(105)) ## opposite of above \n",
        "def customize_dataset(data_frame, rand_str):\n",
        "\n",
        "  new_data = data_frame.copy(deep = True)\n",
        "\n",
        "  # new_data = new_data.sample(int(0.95*len(new_data)), random_state= int(ord(rand_str[0])))\n",
        "  new_data = new_data.sample(int(0.95*len(new_data)), random_state= (random.randint(0,100)))\n",
        "\n",
        "  new_data.Year = new_data.Year * ord(rand_str[1]) / 100\n",
        "\n",
        "  new_data.Selling_Price = new_data.Selling_Price * ord(rand_str[2])/100\n",
        "\n",
        "  # if ord(rand_str[3]) % 2 == 1:\n",
        "  if random.randint(1, 100)> 0:\n",
        "    new_data = new_data.drop(['Car_Name'], axis= 1)\n",
        "    return new_data\n",
        "\n",
        "new_data = customize_dataset(data_frame, your_name)\n",
        "new_data.head() ## I had TypeError couple of time cuz def customize_dataset returnd non for some reason\n"
      ],
      "metadata": {
        "colab": {
          "base_uri": "https://localhost:8080/",
          "height": 310
        },
        "id": "WWCvJXfRyuII",
        "outputId": "f5edcc84-6a7e-4ea0-dba1-103564099649"
      },
      "execution_count": 6,
      "outputs": [
        {
          "output_type": "stream",
          "name": "stdout",
          "text": [
            "105\n",
            "105\n",
            "98\n",
            "114\n",
            "97\n",
            "i\n"
          ]
        },
        {
          "output_type": "execute_result",
          "data": {
            "text/plain": [
              "        Year  Selling_Price  Present_Price  Kms_Driven Fuel_Type Seller_Type  \\\n",
              "251  1972.74          5.700           9.90       56701    Petrol      Dealer   \n",
              "206  1976.66          6.555           7.13       12479    Petrol      Dealer   \n",
              "130  1976.66          0.855           0.87       11000    Petrol  Individual   \n",
              "35   1970.78          3.363           7.74       49998       CNG      Dealer   \n",
              "5    1977.64         10.545           9.83        2071    Diesel      Dealer   \n",
              "\n",
              "    Transmission  Owner  \n",
              "251       Manual      0  \n",
              "206       Manual      0  \n",
              "130       Manual      0  \n",
              "35        Manual      0  \n",
              "5         Manual      0  "
            ],
            "text/html": [
              "\n",
              "  <div id=\"df-457f7260-b096-4409-8263-fd999bcee532\">\n",
              "    <div class=\"colab-df-container\">\n",
              "      <div>\n",
              "<style scoped>\n",
              "    .dataframe tbody tr th:only-of-type {\n",
              "        vertical-align: middle;\n",
              "    }\n",
              "\n",
              "    .dataframe tbody tr th {\n",
              "        vertical-align: top;\n",
              "    }\n",
              "\n",
              "    .dataframe thead th {\n",
              "        text-align: right;\n",
              "    }\n",
              "</style>\n",
              "<table border=\"1\" class=\"dataframe\">\n",
              "  <thead>\n",
              "    <tr style=\"text-align: right;\">\n",
              "      <th></th>\n",
              "      <th>Year</th>\n",
              "      <th>Selling_Price</th>\n",
              "      <th>Present_Price</th>\n",
              "      <th>Kms_Driven</th>\n",
              "      <th>Fuel_Type</th>\n",
              "      <th>Seller_Type</th>\n",
              "      <th>Transmission</th>\n",
              "      <th>Owner</th>\n",
              "    </tr>\n",
              "  </thead>\n",
              "  <tbody>\n",
              "    <tr>\n",
              "      <th>251</th>\n",
              "      <td>1972.74</td>\n",
              "      <td>5.700</td>\n",
              "      <td>9.90</td>\n",
              "      <td>56701</td>\n",
              "      <td>Petrol</td>\n",
              "      <td>Dealer</td>\n",
              "      <td>Manual</td>\n",
              "      <td>0</td>\n",
              "    </tr>\n",
              "    <tr>\n",
              "      <th>206</th>\n",
              "      <td>1976.66</td>\n",
              "      <td>6.555</td>\n",
              "      <td>7.13</td>\n",
              "      <td>12479</td>\n",
              "      <td>Petrol</td>\n",
              "      <td>Dealer</td>\n",
              "      <td>Manual</td>\n",
              "      <td>0</td>\n",
              "    </tr>\n",
              "    <tr>\n",
              "      <th>130</th>\n",
              "      <td>1976.66</td>\n",
              "      <td>0.855</td>\n",
              "      <td>0.87</td>\n",
              "      <td>11000</td>\n",
              "      <td>Petrol</td>\n",
              "      <td>Individual</td>\n",
              "      <td>Manual</td>\n",
              "      <td>0</td>\n",
              "    </tr>\n",
              "    <tr>\n",
              "      <th>35</th>\n",
              "      <td>1970.78</td>\n",
              "      <td>3.363</td>\n",
              "      <td>7.74</td>\n",
              "      <td>49998</td>\n",
              "      <td>CNG</td>\n",
              "      <td>Dealer</td>\n",
              "      <td>Manual</td>\n",
              "      <td>0</td>\n",
              "    </tr>\n",
              "    <tr>\n",
              "      <th>5</th>\n",
              "      <td>1977.64</td>\n",
              "      <td>10.545</td>\n",
              "      <td>9.83</td>\n",
              "      <td>2071</td>\n",
              "      <td>Diesel</td>\n",
              "      <td>Dealer</td>\n",
              "      <td>Manual</td>\n",
              "      <td>0</td>\n",
              "    </tr>\n",
              "  </tbody>\n",
              "</table>\n",
              "</div>\n",
              "      <button class=\"colab-df-convert\" onclick=\"convertToInteractive('df-457f7260-b096-4409-8263-fd999bcee532')\"\n",
              "              title=\"Convert this dataframe to an interactive table.\"\n",
              "              style=\"display:none;\">\n",
              "        \n",
              "  <svg xmlns=\"http://www.w3.org/2000/svg\" height=\"24px\"viewBox=\"0 0 24 24\"\n",
              "       width=\"24px\">\n",
              "    <path d=\"M0 0h24v24H0V0z\" fill=\"none\"/>\n",
              "    <path d=\"M18.56 5.44l.94 2.06.94-2.06 2.06-.94-2.06-.94-.94-2.06-.94 2.06-2.06.94zm-11 1L8.5 8.5l.94-2.06 2.06-.94-2.06-.94L8.5 2.5l-.94 2.06-2.06.94zm10 10l.94 2.06.94-2.06 2.06-.94-2.06-.94-.94-2.06-.94 2.06-2.06.94z\"/><path d=\"M17.41 7.96l-1.37-1.37c-.4-.4-.92-.59-1.43-.59-.52 0-1.04.2-1.43.59L10.3 9.45l-7.72 7.72c-.78.78-.78 2.05 0 2.83L4 21.41c.39.39.9.59 1.41.59.51 0 1.02-.2 1.41-.59l7.78-7.78 2.81-2.81c.8-.78.8-2.07 0-2.86zM5.41 20L4 18.59l7.72-7.72 1.47 1.35L5.41 20z\"/>\n",
              "  </svg>\n",
              "      </button>\n",
              "      \n",
              "  <style>\n",
              "    .colab-df-container {\n",
              "      display:flex;\n",
              "      flex-wrap:wrap;\n",
              "      gap: 12px;\n",
              "    }\n",
              "\n",
              "    .colab-df-convert {\n",
              "      background-color: #E8F0FE;\n",
              "      border: none;\n",
              "      border-radius: 50%;\n",
              "      cursor: pointer;\n",
              "      display: none;\n",
              "      fill: #1967D2;\n",
              "      height: 32px;\n",
              "      padding: 0 0 0 0;\n",
              "      width: 32px;\n",
              "    }\n",
              "\n",
              "    .colab-df-convert:hover {\n",
              "      background-color: #E2EBFA;\n",
              "      box-shadow: 0px 1px 2px rgba(60, 64, 67, 0.3), 0px 1px 3px 1px rgba(60, 64, 67, 0.15);\n",
              "      fill: #174EA6;\n",
              "    }\n",
              "\n",
              "    [theme=dark] .colab-df-convert {\n",
              "      background-color: #3B4455;\n",
              "      fill: #D2E3FC;\n",
              "    }\n",
              "\n",
              "    [theme=dark] .colab-df-convert:hover {\n",
              "      background-color: #434B5C;\n",
              "      box-shadow: 0px 1px 3px 1px rgba(0, 0, 0, 0.15);\n",
              "      filter: drop-shadow(0px 1px 2px rgba(0, 0, 0, 0.3));\n",
              "      fill: #FFFFFF;\n",
              "    }\n",
              "  </style>\n",
              "\n",
              "      <script>\n",
              "        const buttonEl =\n",
              "          document.querySelector('#df-457f7260-b096-4409-8263-fd999bcee532 button.colab-df-convert');\n",
              "        buttonEl.style.display =\n",
              "          google.colab.kernel.accessAllowed ? 'block' : 'none';\n",
              "\n",
              "        async function convertToInteractive(key) {\n",
              "          const element = document.querySelector('#df-457f7260-b096-4409-8263-fd999bcee532');\n",
              "          const dataTable =\n",
              "            await google.colab.kernel.invokeFunction('convertToInteractive',\n",
              "                                                     [key], {});\n",
              "          if (!dataTable) return;\n",
              "\n",
              "          const docLinkHtml = 'Like what you see? Visit the ' +\n",
              "            '<a target=\"_blank\" href=https://colab.research.google.com/notebooks/data_table.ipynb>data table notebook</a>'\n",
              "            + ' to learn more about interactive tables.';\n",
              "          element.innerHTML = '';\n",
              "          dataTable['output_type'] = 'display_data';\n",
              "          await google.colab.output.renderOutput(dataTable, element);\n",
              "          const docLink = document.createElement('div');\n",
              "          docLink.innerHTML = docLinkHtml;\n",
              "          element.appendChild(docLink);\n",
              "        }\n",
              "      </script>\n",
              "    </div>\n",
              "  </div>\n",
              "  "
            ]
          },
          "metadata": {},
          "execution_count": 6
        }
      ]
    },
    {
      "cell_type": "code",
      "source": [
        "input_cols = [\"Year\",\"Present_Price\",\"Kms_Driven\",\"Owner\"]\n",
        "categorical_cols = [\"Fuel_Type\",\"Seller_Type\",\"Transmission\"]\n",
        "output_cols = [\"Selling_Price\"]"
      ],
      "metadata": {
        "id": "XxIp1b8O2EbW"
      },
      "execution_count": 7,
      "outputs": []
    },
    {
      "cell_type": "code",
      "source": [
        "def dataframe_to_arrays(dataframe):\n",
        "    # Make a copy of the original dataframe\n",
        "    new_data = dataframe.copy(deep=True)\n",
        "    # Convert non-numeric categorical columns to numbers\n",
        "    for col in categorical_cols:\n",
        "        # I categorized each of my variables into numbers by using\n",
        "        # .astype('category').cat.codes\n",
        "        new_data[col] = new_data[col].astype('category').cat.codes\n",
        "\n",
        "    # Extract input & outupts as numpy arrays\n",
        "    inputs_array = new_data[input_cols].to_numpy()\n",
        "    targets_array = new_data[output_cols].to_numpy()\n",
        "    return inputs_array, targets_array\n",
        "\n",
        "inputs_array, targets_array = dataframe_to_arrays(new_data)\n",
        "inputs_array, targets_array"
      ],
      "metadata": {
        "id": "f9Y042DOJDx7"
      },
      "execution_count": null,
      "outputs": []
    },
    {
      "cell_type": "code",
      "source": [
        "print(inputs_array)"
      ],
      "metadata": {
        "colab": {
          "base_uri": "https://localhost:8080/"
        },
        "id": "9woUIofXOcpC",
        "outputId": "fcf9a129-807b-476d-cef6-1e9da534711d"
      },
      "execution_count": 9,
      "outputs": [
        {
          "output_type": "stream",
          "name": "stdout",
          "text": [
            "[[1.97274e+03 9.90000e+00 5.67010e+04 0.00000e+00]\n",
            " [1.97666e+03 7.13000e+00 1.24790e+04 0.00000e+00]\n",
            " [1.97666e+03 8.70000e-01 1.10000e+04 0.00000e+00]\n",
            " ...\n",
            " [1.97274e+03 3.06100e+01 1.35000e+05 0.00000e+00]\n",
            " [1.97274e+03 5.70000e+00 5.30000e+04 0.00000e+00]\n",
            " [1.97470e+03 5.40000e-01 1.40000e+04 0.00000e+00]]\n"
          ]
        }
      ]
    },
    {
      "cell_type": "code",
      "source": [
        "a = data_frame.Car_Name.astype('category')\n",
        "d = dict(enumerate(a.cat.categories))\n",
        "print(d)"
      ],
      "metadata": {
        "colab": {
          "base_uri": "https://localhost:8080/"
        },
        "id": "vA4aQAwrKA79",
        "outputId": "38629017-3b14-4e6b-e1b0-684def97d949"
      },
      "execution_count": 10,
      "outputs": [
        {
          "output_type": "stream",
          "name": "stdout",
          "text": [
            "{0: '800', 1: 'Activa 3g', 2: 'Activa 4g', 3: 'Bajaj  ct 100', 4: 'Bajaj Avenger 150', 5: 'Bajaj Avenger 150 street', 6: 'Bajaj Avenger 220', 7: 'Bajaj Avenger 220 dtsi', 8: 'Bajaj Avenger Street 220', 9: 'Bajaj Discover 100', 10: 'Bajaj Discover 125', 11: 'Bajaj Dominar 400', 12: 'Bajaj Pulsar  NS 200', 13: 'Bajaj Pulsar 135 LS', 14: 'Bajaj Pulsar 150', 15: 'Bajaj Pulsar 220 F', 16: 'Bajaj Pulsar NS 200', 17: 'Bajaj Pulsar RS200', 18: 'Hero  CBZ Xtreme', 19: 'Hero  Ignitor Disc', 20: 'Hero Extreme', 21: 'Hero Glamour', 22: 'Hero Honda CBZ extreme', 23: 'Hero Honda Passion Pro', 24: 'Hero Hunk', 25: 'Hero Passion Pro', 26: 'Hero Passion X pro', 27: 'Hero Splender Plus', 28: 'Hero Splender iSmart', 29: 'Hero Super Splendor', 30: 'Honda Activa 125', 31: 'Honda Activa 4G', 32: 'Honda CB Hornet 160R', 33: 'Honda CB Shine', 34: 'Honda CB Trigger', 35: 'Honda CB Unicorn', 36: 'Honda CB twister', 37: 'Honda CBR 150', 38: 'Honda Dream Yuga ', 39: 'Honda Karizma', 40: 'Hyosung GT250R', 41: 'KTM 390 Duke ', 42: 'KTM RC200', 43: 'KTM RC390', 44: 'Mahindra Mojo XT300', 45: 'Royal Enfield Bullet 350', 46: 'Royal Enfield Classic 350', 47: 'Royal Enfield Classic 500', 48: 'Royal Enfield Thunder 350', 49: 'Royal Enfield Thunder 500', 50: 'Suzuki Access 125', 51: 'TVS Apache RTR 160', 52: 'TVS Apache RTR 180', 53: 'TVS Jupyter', 54: 'TVS Sport ', 55: 'TVS Wego', 56: 'UM Renegade Mojave', 57: 'Yamaha FZ  v 2.0', 58: 'Yamaha FZ 16', 59: 'Yamaha FZ S ', 60: 'Yamaha FZ S V 2.0', 61: 'Yamaha Fazer ', 62: 'alto 800', 63: 'alto k10', 64: 'amaze', 65: 'baleno', 66: 'brio', 67: 'camry', 68: 'ciaz', 69: 'city', 70: 'corolla', 71: 'corolla altis', 72: 'creta', 73: 'dzire', 74: 'elantra', 75: 'eon', 76: 'ertiga', 77: 'etios cross', 78: 'etios g', 79: 'etios gd', 80: 'etios liva', 81: 'fortuner', 82: 'grand i10', 83: 'i10', 84: 'i20', 85: 'ignis', 86: 'innova', 87: 'jazz', 88: 'land cruiser', 89: 'omni', 90: 'ritz', 91: 's cross', 92: 'swift', 93: 'sx4', 94: 'verna', 95: 'vitara brezza', 96: 'wagon r', 97: 'xcent'}\n"
          ]
        }
      ]
    },
    {
      "cell_type": "code",
      "source": [
        "inputs = torch.Tensor(inputs_array)\n",
        "targets = torch.Tensor(targets_array) "
      ],
      "metadata": {
        "id": "9V6B2o_CShTh"
      },
      "execution_count": 11,
      "outputs": []
    },
    {
      "cell_type": "code",
      "source": [
        "print(len(inputs))"
      ],
      "metadata": {
        "id": "-2NUZtFkTi2H",
        "outputId": "d7e8c181-d958-431a-c7b9-761197584272",
        "colab": {
          "base_uri": "https://localhost:8080/"
        }
      },
      "execution_count": 12,
      "outputs": [
        {
          "output_type": "stream",
          "name": "stdout",
          "text": [
            "285\n"
          ]
        }
      ]
    },
    {
      "cell_type": "code",
      "source": [
        "from tables.tests.test_suite import test\n",
        "new_data = TensorDataset(inputs, targets)\n",
        "train_set, test_set = random_split(new_data, [228, 57])\n",
        "batch_size = 128 \n",
        "\n",
        "train_loader = DataLoader(train_set, batch_size, shuffle= True)\n",
        "valdiation = DataLoader(test, batch_size)"
      ],
      "metadata": {
        "id": "j7WAnnCuTGkx"
      },
      "execution_count": 13,
      "outputs": []
    },
    {
      "cell_type": "code",
      "source": [
        "input_size = len(input_cols)\n",
        "output_size = len(output_cols)\n",
        "\n",
        "class CarsModel(nn.Module):\n",
        "\n",
        "  def __init__(self):\n",
        "    super().__init__()\n",
        "    self.linear = nn.Linear(input_size, output_size)\n",
        "\n",
        "  def forward(self, xb):\n",
        "    out = self.linear(xb)\n",
        "    return out \n",
        "  \n",
        "  def training_step(self, batch):\n",
        "    inputs, targers = batch \n",
        "\n",
        "    out = self(inputs)\n",
        "\n",
        "    loss = F.l1_loss(out, targets)\n",
        "    return loss \n",
        "\n",
        "  def validation_step(self, batch): \n",
        "    inputs, targets = batch \n",
        "    out = self(inputs)\n",
        "    loss = F.l1_loss(out, targets)\n",
        "    return {'val_loss': loss.detach()}\n",
        "\n",
        "  def validation_epoch_end(self, outputs):\n",
        "    batch_losses = [x['val_loss'] for x in outputs]\n",
        "    epoch_loss = torch.stack(batch_losses).mean()\n",
        "    return {'val_loss': epoch_loss.item}\n",
        "  \n",
        "  def epoch_end(self, epoch, result, num_epochs):\n",
        "    if (epoch + 1 ) % 20 == 0 or epoch == num_epoches - 1:\n",
        "      print(\"Epoch [{}], val_loss: {:.4f}\".format(epoch+1, result['val_loss']))\n",
        "model = CarsModel()\n",
        "list(model.parameters())"
      ],
      "metadata": {
        "id": "7FfqYe94r8t3",
        "outputId": "f4cbaae4-5584-4b93-960c-d4f878bf519b",
        "colab": {
          "base_uri": "https://localhost:8080/"
        }
      },
      "execution_count": 19,
      "outputs": [
        {
          "output_type": "execute_result",
          "data": {
            "text/plain": [
              "[Parameter containing:\n",
              " tensor([[ 0.4985, -0.0734, -0.4273,  0.2310]], requires_grad=True),\n",
              " Parameter containing:\n",
              " tensor([0.1726], requires_grad=True)]"
            ]
          },
          "metadata": {},
          "execution_count": 19
        }
      ]
    },
    {
      "cell_type": "code",
      "source": [],
      "metadata": {
        "id": "FQsDiUrptHon"
      },
      "execution_count": null,
      "outputs": []
    }
  ]
}
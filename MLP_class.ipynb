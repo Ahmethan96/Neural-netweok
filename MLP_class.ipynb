{
  "nbformat": 4,
  "nbformat_minor": 0,
  "metadata": {
    "kernelspec": {
      "display_name": "Python 3",
      "language": "python",
      "name": "python3"
    },
    "language_info": {
      "codemirror_mode": {
        "name": "ipython",
        "version": 3
      },
      "file_extension": ".py",
      "mimetype": "text/x-python",
      "name": "python",
      "nbconvert_exporter": "python",
      "pygments_lexer": "ipython3",
      "version": "3.7.3"
    },
    "colab": {
      "provenance": [],
      "collapsed_sections": [],
      "include_colab_link": true
    }
  },
  "cells": [
    {
      "cell_type": "markdown",
      "metadata": {
        "id": "view-in-github",
        "colab_type": "text"
      },
      "source": [
        "<a href=\"https://colab.research.google.com/github/Ahmethan96/Neural-netweok/blob/main/MLP_class.ipynb\" target=\"_parent\"><img src=\"https://colab.research.google.com/assets/colab-badge.svg\" alt=\"Open In Colab\"/></a>"
      ]
    },
    {
      "cell_type": "markdown",
      "metadata": {
        "id": "Kqne7YCc_YTy"
      },
      "source": [
        "Need to run this to allow multiple ouputs"
      ]
    },
    {
      "cell_type": "code",
      "metadata": {
        "id": "t8tBNIm7_YT2"
      },
      "source": [
        "from IPython.core.interactiveshell import InteractiveShell\n",
        "InteractiveShell.ast_node_interactivity = \"all\""
      ],
      "execution_count": null,
      "outputs": []
    },
    {
      "cell_type": "code",
      "metadata": {
        "id": "H5rXWWiB_YUB",
        "colab": {
          "base_uri": "https://localhost:8080/"
        },
        "outputId": "7c388406-3a9e-48d3-9ec3-baeb79c048b8"
      },
      "source": [
        "#!pip3 install Cython\n",
        "import torch\n",
        "import torch.nn as nn\n",
        "import torch.nn.functional as F\n",
        "\n",
        "seed = 1337\n",
        "\n",
        "torch.manual_seed(seed)\n",
        "torch.cuda.manual_seed_all(seed)"
      ],
      "execution_count": null,
      "outputs": [
        {
          "output_type": "stream",
          "name": "stdout",
          "text": [
            "Looking in indexes: https://pypi.org/simple, https://us-python.pkg.dev/colab-wheels/public/simple/\n",
            "Requirement already satisfied: Cython in /usr/local/lib/python3.7/dist-packages (0.29.32)\n"
          ]
        }
      ]
    },
    {
      "cell_type": "markdown",
      "source": [],
      "metadata": {
        "id": "-PMA6BkwAoxQ"
      }
    },
    {
      "cell_type": "markdown",
      "metadata": {
        "id": "B89dgqtW_YUO"
      },
      "source": [
        "*Example* 1 Implemenatation of an MLP in Pytorch with two linear fully connected objects fc1 and fc2 and a Rectified Linear Unit (ReLU) applied to the output of the 1st linear layer"
      ]
    },
    {
      "cell_type": "code",
      "metadata": {
        "id": "4Tt8Me1n_YUQ",
        "colab": {
          "base_uri": "https://localhost:8080/",
          "height": 235
        },
        "outputId": "673aeb84-5103-4888-e0a6-4c5c37e9c0e2"
      },
      "source": [
        "from keras.layers import Dense\n",
        "from keras.layers.serialization import activation\n",
        "import torch.nn as nn\n",
        "import torch.nn.functional as F\n",
        "from keras.models import Sequential\n",
        "# model = Sequential()\n",
        "# model.add(Dense(256, input_shape = 1, ), activation = 'softmax')\n",
        "# model.add(Dense(Dense))\n",
        "\n",
        "\n",
        "\n",
        "\n",
        "\n",
        "class MultilayerPerceptron(nn.Module):\n",
        "    def __init__(self, input_dim, hidden_dim, output_dim):\n",
        "        \"\"\"\n",
        "        Args:\n",
        "            input_dim (int): the size of the input vectors\n",
        "            hidden_dim (int): the output size of the first Linear layer\n",
        "            output_dim (int): the output size of the second Linear layer\n",
        "        \"\"\"\n",
        "        super(MultilayerPerceptron, self).__init__()\n",
        "        self.fc1 = nn.Linear(input_dim, hidden_dim)\n",
        "        self.fc2 = nn.Linear(hidden_dim, output_dim)\n",
        "\n",
        "    def forward(self, x_in, apply_softmax=False):\n",
        "        \"\"\"The forward pass of the MLP\n",
        "        \n",
        "        Args:\n",
        "            x_in (torch.Tensor): an input data tensor. \n",
        "                x_in.shape should be (batch, input_dim)\n",
        "            apply_softmax (bool): a flag for the softmax activation\n",
        "                should be false if used with the Cross Entropy losses\n",
        "        Returns:\n",
        "            the resulting tensor. tensor.shape should be (batch, output_dim)\n",
        "        \"\"\"\n",
        "        intermediate = F.relu(self.fc1(x_in))\n",
        "        output = self.fc2(intermediate)\n",
        "        \n",
        "        if apply_softmax:\n",
        "            output = F.softmax(output, dim=1)\n",
        "        return output\n",
        "\n",
        "\n"
      ],
      "execution_count": null,
      "outputs": [
        {
          "output_type": "error",
          "ename": "NameError",
          "evalue": "ignored",
          "traceback": [
            "\u001b[0;31m---------------------------------------------------------------------------\u001b[0m",
            "\u001b[0;31mNameError\u001b[0m                                 Traceback (most recent call last)",
            "\u001b[0;32m<ipython-input-6-8b2f206e3c50>\u001b[0m in \u001b[0;36m<module>\u001b[0;34m\u001b[0m\n\u001b[1;32m      4\u001b[0m \u001b[0;32mfrom\u001b[0m \u001b[0mkeras\u001b[0m\u001b[0;34m.\u001b[0m\u001b[0mmodels\u001b[0m \u001b[0;32mimport\u001b[0m \u001b[0mSequential\u001b[0m\u001b[0;34m\u001b[0m\u001b[0;34m\u001b[0m\u001b[0m\n\u001b[1;32m      5\u001b[0m \u001b[0mmodel\u001b[0m \u001b[0;34m=\u001b[0m \u001b[0mSequential\u001b[0m\u001b[0;34m(\u001b[0m\u001b[0;34m)\u001b[0m\u001b[0;34m\u001b[0m\u001b[0;34m\u001b[0m\u001b[0m\n\u001b[0;32m----> 6\u001b[0;31m \u001b[0mmodel\u001b[0m\u001b[0;34m.\u001b[0m\u001b[0madd\u001b[0m\u001b[0;34m(\u001b[0m\u001b[0mDense\u001b[0m\u001b[0;34m(\u001b[0m\u001b[0;36m256\u001b[0m\u001b[0;34m,\u001b[0m \u001b[0minput_shape\u001b[0m \u001b[0;34m=\u001b[0m \u001b[0;36m1\u001b[0m\u001b[0;34m,\u001b[0m \u001b[0;34m)\u001b[0m\u001b[0;34m,\u001b[0m \u001b[0mactivation\u001b[0m \u001b[0;34m=\u001b[0m \u001b[0;34m'softmax'\u001b[0m\u001b[0;34m)\u001b[0m\u001b[0;34m\u001b[0m\u001b[0;34m\u001b[0m\u001b[0m\n\u001b[0m\u001b[1;32m      7\u001b[0m \u001b[0;34m\u001b[0m\u001b[0m\n\u001b[1;32m      8\u001b[0m \u001b[0;31m# class MultilayerPerceptron(nn.Module):\u001b[0m\u001b[0;34m\u001b[0m\u001b[0;34m\u001b[0m\u001b[0;34m\u001b[0m\u001b[0m\n",
            "\u001b[0;31mNameError\u001b[0m: name 'Dense' is not defined"
          ]
        }
      ]
    },
    {
      "cell_type": "markdown",
      "metadata": {
        "id": "i9DNaTfIftu3"
      },
      "source": [
        "Class Inheritance\n",
        "Inheritance allows us to define a (child) class that inherits all the methods and properties from another (parent) class. See the following link to know about python inheretance: https://www.w3schools.com/python/python_inheritance.asp"
      ]
    },
    {
      "cell_type": "markdown",
      "metadata": {
        "id": "-WOwcDsekxbo"
      },
      "source": [
        "ReLU (Rectified linar unit"
      ]
    },
    {
      "cell_type": "code",
      "metadata": {
        "id": "o3175tt_kJxW",
        "colab": {
          "base_uri": "https://localhost:8080/",
          "height": 320
        },
        "outputId": "4f4b2a5b-3888-48e7-dd7a-ec3c5bd985ff"
      },
      "source": [
        "import torch\n",
        "import matplotlib.pyplot as plt\n",
        "\n",
        "relu = torch.nn.ReLU()\n",
        "x = torch.range(-5.,5.,0.1)\n",
        "y = relu(x)\n",
        "\n",
        "plt.plot(x.numpy(), y.numpy())\n",
        "plt.show()"
      ],
      "execution_count": null,
      "outputs": [
        {
          "output_type": "stream",
          "name": "stderr",
          "text": [
            "/usr/local/lib/python3.7/dist-packages/ipykernel_launcher.py:5: UserWarning: torch.range is deprecated and will be removed in a future release because its behavior is inconsistent with Python's range builtin. Instead, use torch.arange, which produces values in [start, end).\n",
            "  \"\"\"\n"
          ]
        },
        {
          "output_type": "display_data",
          "data": {
            "text/plain": [
              "<Figure size 432x288 with 1 Axes>"
            ],
            "image/png": "[encoded data removed]"
          },
          "metadata": {
            "needs_background": "light"
          }
        }
      ]
    },
    {
      "cell_type": "markdown",
      "metadata": {
        "id": "NDyZRp0am2Qf"
      },
      "source": [
        "Tanh activation"
      ]
    },
    {
      "cell_type": "code",
      "metadata": {
        "id": "GcRE5CI5mwvj",
        "colab": {
          "base_uri": "https://localhost:8080/",
          "height": 320
        },
        "outputId": "b438a134-7e3b-4a6e-fcde-fa4fe344002e"
      },
      "source": [
        "import torch\n",
        "import matplotlib.pyplot as plt\n",
        "x = torch.range(-5.,5.,0.1)\n",
        "y = torch.tanh(x)\n",
        "plt.plot(x.numpy(), y.numpy())\n",
        "plt.show()"
      ],
      "execution_count": null,
      "outputs": [
        {
          "output_type": "stream",
          "text": [
            "/usr/local/lib/python3.6/dist-packages/ipykernel_launcher.py:3: UserWarning: torch.range is deprecated in favor of torch.arange and will be removed in 0.5. Note that arange generates values in [start; end), not [start; end].\n",
            "  This is separate from the ipykernel package so we can avoid doing imports until\n"
          ],
          "name": "stderr"
        },
        {
          "output_type": "display_data",
          "data": {
            "image/png": "[encoded data removed]",
            "text/plain": [
              "<Figure size 432x288 with 1 Axes>"
            ]
          },
          "metadata": {
            "tags": []
          }
        }
      ]
    },
    {
      "cell_type": "markdown",
      "metadata": {
        "id": "qWBxPp9bngba"
      },
      "source": [
        "Sigmoid activation"
      ]
    },
    {
      "cell_type": "code",
      "metadata": {
        "id": "OFP1yFhjnlsz",
        "colab": {
          "base_uri": "https://localhost:8080/",
          "height": 320
        },
        "outputId": "4901f4f9-ef79-40f2-b281-c2a6f417d1b5"
      },
      "source": [
        "import torch\n",
        "import matplotlib.pyplot as plt\n",
        "\n",
        "x = torch.range(-5.,5.,0.1)\n",
        "y = torch.sigmoid(x)\n",
        "plt.plot(x.numpy(),y.numpy())\n",
        "plt.show()"
      ],
      "execution_count": null,
      "outputs": [
        {
          "output_type": "stream",
          "text": [
            "/usr/local/lib/python3.6/dist-packages/ipykernel_launcher.py:4: UserWarning: torch.range is deprecated in favor of torch.arange and will be removed in 0.5. Note that arange generates values in [start; end), not [start; end].\n",
            "  after removing the cwd from sys.path.\n"
          ],
          "name": "stderr"
        },
        {
          "output_type": "display_data",
          "data": {
            "image/png": "[encoded data removed]",
            "text/plain": [
              "<Figure size 432x288 with 1 Axes>"
            ]
          },
          "metadata": {
            "tags": []
          }
        }
      ]
    },
    {
      "cell_type": "markdown",
      "metadata": {
        "id": "9ExJUDlM_YUV"
      },
      "source": [
        "\n",
        "Example 2 Instantiation of an MLP. Outputs are random as model has not yet been trained."
      ]
    },
    {
      "cell_type": "code",
      "metadata": {
        "id": "EZjGt2Tw_YUW",
        "colab": {
          "base_uri": "https://localhost:8080/"
        },
        "outputId": "ed1c9303-eaf5-4586-c803-9f6cd4f0471a"
      },
      "source": [
        "batch_size = 2 # number of samples input at once\n",
        "input_dim = 3\n",
        "hidden_dim = 100\n",
        "output_dim = 4\n",
        "\n",
        "# Initialize model\n",
        "mlp = MultilayerPerceptron(input_dim, hidden_dim, output_dim)\n",
        "print(mlp)\n",
        "\n",
        "mlp = MultilayerPerceptron()\n"
      ],
      "execution_count": null,
      "outputs": [
        {
          "output_type": "stream",
          "name": "stdout",
          "text": [
            "MultilayerPerceptron(\n",
            "  (fc1): Linear(in_features=3, out_features=100, bias=True)\n",
            "  (fc2): Linear(in_features=100, out_features=4, bias=True)\n",
            ")\n"
          ]
        }
      ]
    },
    {
      "cell_type": "markdown",
      "metadata": {
        "id": "cYJWFGgq_YUd"
      },
      "source": [
        "Example 3. Testing MLP with random inputs"
      ]
    },
    {
      "cell_type": "code",
      "metadata": {
        "id": "QKkKxg-d_YUe"
      },
      "source": [
        "def describe(x):\n",
        "    print(\"Type: {}\".format(x.type()))\n",
        "    print(\"Shape/size: {}\".format(x.shape))\n",
        "    print(\"Values: \\n{}\".format(x))"
      ],
      "execution_count": null,
      "outputs": []
    },
    {
      "cell_type": "code",
      "metadata": {
        "id": "RO6RtVDS_YUi",
        "colab": {
          "base_uri": "https://localhost:8080/",
          "height": 200
        },
        "outputId": "6409af7d-03e1-4e60-8742-5b9660bb2ebe"
      },
      "source": [
        "# Inputs\n",
        "x_input = torch.rand(batch_size, input_dim)\n",
        "describe(x_input)"
      ],
      "execution_count": null,
      "outputs": [
        {
          "output_type": "error",
          "ename": "NameError",
          "evalue": "ignored",
          "traceback": [
            "\u001b[0;31m---------------------------------------------------------------------------\u001b[0m",
            "\u001b[0;31mNameError\u001b[0m                                 Traceback (most recent call last)",
            "\u001b[0;32m<ipython-input-10-cae89a0f615b>\u001b[0m in \u001b[0;36m<module>\u001b[0;34m\u001b[0m\n\u001b[1;32m      1\u001b[0m \u001b[0;31m# Inputs\u001b[0m\u001b[0;34m\u001b[0m\u001b[0;34m\u001b[0m\u001b[0;34m\u001b[0m\u001b[0m\n\u001b[1;32m      2\u001b[0m \u001b[0mx_input\u001b[0m \u001b[0;34m=\u001b[0m \u001b[0mtorch\u001b[0m\u001b[0;34m.\u001b[0m\u001b[0mrand\u001b[0m\u001b[0;34m(\u001b[0m\u001b[0mbatch_size\u001b[0m\u001b[0;34m,\u001b[0m \u001b[0minput_dim\u001b[0m\u001b[0;34m)\u001b[0m\u001b[0;34m\u001b[0m\u001b[0;34m\u001b[0m\u001b[0m\n\u001b[0;32m----> 3\u001b[0;31m \u001b[0mdescribe\u001b[0m\u001b[0;34m(\u001b[0m\u001b[0mx_input\u001b[0m\u001b[0;34m)\u001b[0m\u001b[0;34m\u001b[0m\u001b[0;34m\u001b[0m\u001b[0m\n\u001b[0m",
            "\u001b[0;31mNameError\u001b[0m: name 'describe' is not defined"
          ]
        }
      ]
    },
    {
      "cell_type": "code",
      "metadata": {
        "id": "fj0EdjKQ_YUm",
        "colab": {
          "base_uri": "https://localhost:8080/",
          "height": 102
        },
        "outputId": "7258dbb3-d686-405b-bb77-0e7e2646688f"
      },
      "source": [
        "y_output = mlp(x_input, apply_softmax=False)\n",
        "describe(y_output)"
      ],
      "execution_count": null,
      "outputs": [
        {
          "output_type": "stream",
          "text": [
            "Type: torch.FloatTensor\n",
            "Shape/size: torch.Size([2, 4])\n",
            "Values: \n",
            "tensor([[-0.2456,  0.0723,  0.1589, -0.3294],\n",
            "        [-0.3497,  0.0828,  0.3391, -0.4271]], grad_fn=<AddmmBackward>)\n"
          ],
          "name": "stdout"
        }
      ]
    },
    {
      "cell_type": "markdown",
      "metadata": {
        "id": "s7PK2vMo_YUq"
      },
      "source": [
        "\n",
        "\n",
        "Example 4. Adding probabilities with softMax. SoftMax trranforms a vector of values into probabilities (Transforming predictions into probabilities). "
      ]
    },
    {
      "cell_type": "code",
      "metadata": {
        "id": "0hegcTeZ_YUr",
        "colab": {
          "base_uri": "https://localhost:8080/",
          "height": 102
        },
        "outputId": "67035232-92fc-4076-e76d-2641d0058f7d"
      },
      "source": [
        "y_output = mlp(x_input, apply_softmax=True)\n",
        "describe(y_output)"
      ],
      "execution_count": null,
      "outputs": [
        {
          "output_type": "stream",
          "text": [
            "Type: torch.FloatTensor\n",
            "Shape/size: torch.Size([2, 4])\n",
            "Values: \n",
            "tensor([[0.2087, 0.2868, 0.3127, 0.1919],\n",
            "        [0.1832, 0.2824, 0.3649, 0.1696]], grad_fn=<SoftmaxBackward>)\n"
          ],
          "name": "stdout"
        }
      ]
    },
    {
      "cell_type": "markdown",
      "metadata": {
        "id": "fpcNF_O3_YUu"
      },
      "source": [
        "*Example* 5 MLP with dropout. Probabilistically dropping out connections between units to avoid over fitting (At training phase only)"
      ]
    },
    {
      "cell_type": "markdown",
      "source": [
        "Please take time to read about 'What is Dropout?' here is an example linek:\n",
        "https://medium.com/analytics-vidhya/a-simple-introduction-to-dropout-regularization-with-code-5279489dda1e\n"
      ],
      "metadata": {
        "id": "ckoGojAKO3Fh"
      }
    },
    {
      "cell_type": "code",
      "metadata": {
        "id": "1nne4f7z_YUv",
        "colab": {
          "base_uri": "https://localhost:8080/",
          "height": 269
        },
        "outputId": "ff4f6c4b-3e48-4fce-a73e-2c67b6067643"
      },
      "source": [
        "class MultilayerPerceptron(nn.Module):\n",
        "    def __init__(self, input_dim, hidden_dim, output_dim):\n",
        "        \"\"\"\n",
        "        Args:\n",
        "            input_dim (int): the size of the input vectors\n",
        "            hidden_dim (int): the output size of the first Linear layer\n",
        "            output_dim (int): the output size of the second Linear layer\n",
        "        \"\"\"\n",
        "        super(MultilayerPerceptron, self).__init__()\n",
        "        self.fc1 = nn.Linear(input_dim, hidden_dim)\n",
        "        self.fc2 = nn.Linear(hidden_dim, output_dim)\n",
        "\n",
        "    def forward(self, x_in, apply_softmax=False):\n",
        "        \"\"\"The forward pass of the MLP\n",
        "        \n",
        "        Args:\n",
        "            x_in (torch.Tensor): an input data tensor. \n",
        "                x_in.shape should be (batch, input_dim)\n",
        "            apply_softmax (bool): a flag for the softmax activation\n",
        "                should be false if used with the Cross Entropy losses\n",
        "        Returns:\n",
        "            the resulting tensor. tensor.shape should be (batch, output_dim)\n",
        "        \"\"\"\n",
        "        intermediate = F.relu(self.fc1(x_in))\n",
        "        output = self.fc2(F.dropout(intermediate, p=0.5))\n",
        "  \n",
        "    # def drop_out(self,  )\n",
        "        \n",
        "        if apply_softmax:\n",
        "            output = F.softmax(output, dim=1)\n",
        "        return output\n",
        "\n",
        "batch_size = 2 # number of samples input at once\n",
        "input_dim = 3\n",
        "hidden_dim = 100\n",
        "output_dim = 4\n",
        "\n",
        "# Initialize model\n",
        "mlp = MultilayerPerceptron(input_dim, hidden_dim, output_dim)\n",
        "print(mlp)\n",
        "\n",
        "y_output = mlp(x_input, apply_softmax=False)\n",
        "describe(y_output)\n"
      ],
      "execution_count": null,
      "outputs": [
        {
          "output_type": "stream",
          "name": "stdout",
          "text": [
            "MultilayerPerceptron(\n",
            "  (fc1): Linear(in_features=3, out_features=100, bias=True)\n",
            "  (fc2): Linear(in_features=100, out_features=4, bias=True)\n",
            ")\n"
          ]
        },
        {
          "output_type": "error",
          "ename": "NameError",
          "evalue": "ignored",
          "traceback": [
            "\u001b[0;31m---------------------------------------------------------------------------\u001b[0m",
            "\u001b[0;31mNameError\u001b[0m                                 Traceback (most recent call last)",
            "\u001b[0;32m<ipython-input-13-06639e64f709>\u001b[0m in \u001b[0;36m<module>\u001b[0;34m\u001b[0m\n\u001b[1;32m     41\u001b[0m \u001b[0;34m\u001b[0m\u001b[0m\n\u001b[1;32m     42\u001b[0m \u001b[0my_output\u001b[0m \u001b[0;34m=\u001b[0m \u001b[0mmlp\u001b[0m\u001b[0;34m(\u001b[0m\u001b[0mx_input\u001b[0m\u001b[0;34m,\u001b[0m \u001b[0mapply_softmax\u001b[0m\u001b[0;34m=\u001b[0m\u001b[0;32mFalse\u001b[0m\u001b[0;34m)\u001b[0m\u001b[0;34m\u001b[0m\u001b[0;34m\u001b[0m\u001b[0m\n\u001b[0;32m---> 43\u001b[0;31m \u001b[0mdescribe\u001b[0m\u001b[0;34m(\u001b[0m\u001b[0my_output\u001b[0m\u001b[0;34m)\u001b[0m\u001b[0;34m\u001b[0m\u001b[0;34m\u001b[0m\u001b[0m\n\u001b[0m",
            "\u001b[0;31mNameError\u001b[0m: name 'describe' is not defined"
          ]
        }
      ]
    },
    {
      "cell_type": "markdown",
      "metadata": {
        "id": "09nIolGR_YUz"
      },
      "source": [
        "Example 6. Creat a convolotion layer"
      ]
    },
    {
      "cell_type": "code",
      "metadata": {
        "id": "SlvdWITl_YUz",
        "colab": {
          "base_uri": "https://localhost:8080/"
        },
        "outputId": "02214c35-85a1-4bba-8e5a-0732dac73184"
      },
      "source": [
        "\n",
        "batch_size = 2\n",
        "one_hot_size = 10\n",
        "sequence_width = 7\n",
        "data = torch.randn(batch_size, one_hot_size, sequence_width)\n",
        "conv1 = nn.Conv1d(in_channels=one_hot_size, out_channels=16, kernel_size=3)\n",
        "intermediate1 = conv1(data)\n",
        "print(data.size())\n",
        "print(intermediate1.size())"
      ],
      "execution_count": null,
      "outputs": [
        {
          "output_type": "stream",
          "name": "stdout",
          "text": [
            "torch.Size([2, 10, 7])\n",
            "torch.Size([2, 16, 5])\n"
          ]
        }
      ]
    },
    {
      "cell_type": "markdown",
      "metadata": {
        "id": "ln1GZwbOiRPH"
      },
      "source": [
        "-what is the strid for the previous convolotion layer? Try different value for stride to see how it affects the output size. Search pytorch.nnconv1d to find more information about the layer (https://pytorch.org/docs/stable/generated/torch.nn.Conv1d.html)"
      ]
    },
    {
      "cell_type": "markdown",
      "metadata": {
        "id": "H217A_14_YU2"
      },
      "source": [
        "Example 7"
      ]
    },
    {
      "cell_type": "code",
      "metadata": {
        "id": "_qGHIUXu_YU3",
        "colab": {
          "base_uri": "https://localhost:8080/",
          "height": 51
        },
        "outputId": "33485686-c395-41be-d01d-41db2a562fcc"
      },
      "source": [
        "conv2 = nn.Conv1d(in_channels=16, out_channels=32, kernel_size=3)\n",
        "conv3 = nn.Conv1d(in_channels=32, out_channels=64, kernel_size=3)\n",
        "\n",
        "intermediate2 = conv2(intermediate1)\n",
        "intermediate3 = conv3(intermediate2)\n",
        "\n",
        "print(intermediate2.size())\n",
        "print(intermediate3.size())"
      ],
      "execution_count": null,
      "outputs": [
        {
          "output_type": "stream",
          "text": [
            "torch.Size([2, 32, 3])\n",
            "torch.Size([2, 64, 1])\n"
          ],
          "name": "stdout"
        }
      ]
    },
    {
      "cell_type": "code",
      "metadata": {
        "id": "pFwcTbBC_YU7",
        "colab": {
          "base_uri": "https://localhost:8080/",
          "height": 34
        },
        "outputId": "8668173b-0111-4006-e46c-f476bf216535"
      },
      "source": [
        "y_output = intermediate3.squeeze()\n",
        "print(y_output.size())"
      ],
      "execution_count": null,
      "outputs": [
        {
          "output_type": "stream",
          "text": [
            "torch.Size([2, 64])\n"
          ],
          "name": "stdout"
        }
      ]
    },
    {
      "cell_type": "code",
      "metadata": {
        "id": "Ih_2TeIB_YU-",
        "colab": {
          "base_uri": "https://localhost:8080/",
          "height": 34
        },
        "outputId": "55d50b30-762e-47fe-c826-9978d0c39425"
      },
      "source": [
        "intermediate2.mean(dim=0).mean(dim=1).sum()"
      ],
      "execution_count": null,
      "outputs": [
        {
          "output_type": "execute_result",
          "data": {
            "text/plain": [
              "tensor(-0.0493, grad_fn=<SumBackward0>)"
            ]
          },
          "metadata": {
            "tags": []
          },
          "execution_count": 12
        }
      ]
    },
    {
      "cell_type": "markdown",
      "metadata": {
        "id": "6Ots48u2_YVC"
      },
      "source": [
        "Example 8"
      ]
    },
    {
      "cell_type": "code",
      "metadata": {
        "id": "sMrwgCWc_YVC",
        "colab": {
          "base_uri": "https://localhost:8080/",
          "height": 51
        },
        "outputId": "187a6be7-799f-4e21-da89-d3c3f2d43aa9"
      },
      "source": [
        "# Method 2 of reducing to feature vectors\n",
        "print(intermediate1.view(batch_size, -1).size())\n",
        "\n",
        "# Method 3 of reducing to feature vectors\n",
        "print(torch.mean(intermediate1, dim=2).size())"
      ],
      "execution_count": null,
      "outputs": [
        {
          "output_type": "stream",
          "text": [
            "torch.Size([2, 80])\n",
            "torch.Size([2, 16])\n"
          ],
          "name": "stdout"
        }
      ]
    },
    {
      "cell_type": "markdown",
      "metadata": {
        "id": "CLte4uy-_YVF"
      },
      "source": [
        "Example 9\n",
        "The full model will not be reproduced here. Instead, we will just show batch norm being used."
      ]
    },
    {
      "cell_type": "code",
      "metadata": {
        "id": "RZWG0uwR_YVG",
        "colab": {
          "base_uri": "https://localhost:8080/",
          "height": 68
        },
        "outputId": "4897376f-cb7b-452b-92fa-04b8879e7f60"
      },
      "source": [
        "conv1 = nn.Conv1d(in_channels=one_hot_size, out_channels=16, kernel_size=3)\n",
        "conv2 = nn.Conv1d(in_channels=16, out_channels=32, kernel_size=3)\n",
        "conv3 = nn.Conv1d(in_channels=32, out_channels=64, kernel_size=3)\n",
        "\n",
        "conv1_bn = nn.BatchNorm1d(num_features=16)\n",
        "conv2_bn = nn.BatchNorm1d(num_features=32)\n",
        "    \n",
        "intermediate1 = conv1_bn(F.relu(conv1(data)))\n",
        "intermediate2 = conv2_bn(F.relu(conv2(intermediate1)))\n",
        "intermediate3 = conv3(intermediate2)\n",
        "\n",
        "print(intermediate1.size())\n",
        "print(intermediate2.size())\n",
        "print(intermediate3.size())"
      ],
      "execution_count": null,
      "outputs": [
        {
          "output_type": "stream",
          "text": [
            "torch.Size([2, 16, 5])\n",
            "torch.Size([2, 32, 3])\n",
            "torch.Size([2, 64, 1])\n"
          ],
          "name": "stdout"
        }
      ]
    },
    {
      "cell_type": "markdown",
      "metadata": {
        "id": "uAsCYf_V_YVJ"
      },
      "source": [
        "Note: BatchNorm computes its statistics over the batch and sequence dimensions. In other words, the input to each batchnorm1d is a tensor of size (B, C, L) (where b=batch, c=channels, and l=length). Each (B, L) slice should have 0-mean. This reduces covariate shift."
      ]
    },
    {
      "cell_type": "code",
      "metadata": {
        "id": "51fXpZFm_YVJ",
        "colab": {
          "base_uri": "https://localhost:8080/",
          "height": 136
        },
        "outputId": "73bbc59c-2969-4a01-c615-87a42818fc5c"
      },
      "source": [
        "intermediate2.mean(dim=(0, 2))"
      ],
      "execution_count": null,
      "outputs": [
        {
          "output_type": "execute_result",
          "data": {
            "text/plain": [
              "tensor([ 0.0000e+00,  3.7253e-09,  0.0000e+00, -1.9868e-08, -9.9341e-09,\n",
              "        -9.9341e-09,  4.9671e-09, -2.9802e-08,  6.2088e-10, -9.9341e-09,\n",
              "         2.4835e-09,  0.0000e+00,  2.4835e-09,  9.9341e-09,  1.9868e-08,\n",
              "         9.3132e-10, -4.9671e-09, -3.4769e-08, -4.9671e-09,  0.0000e+00,\n",
              "        -2.7164e-10,  5.9605e-08, -2.0179e-09,  0.0000e+00,  9.9341e-09,\n",
              "         9.9341e-09,  1.9868e-08,  1.4901e-08, -1.2418e-09,  9.9341e-09,\n",
              "         9.9341e-09,  5.9605e-08], grad_fn=<MeanBackward2>)"
            ]
          },
          "metadata": {
            "tags": []
          },
          "execution_count": 15
        }
      ]
    },
    {
      "cell_type": "markdown",
      "source": [
        "* what is the mean value of each batch before the batch normalisation?\n",
        "* what is the variance before and after batch normalisation?"
      ],
      "metadata": {
        "id": "hnPPBttw6lMF"
      }
    },
    {
      "cell_type": "markdown",
      "metadata": {
        "id": "RBexX8aW_YVM"
      },
      "source": [
        "Bonus Examples\n",
        "We have covered convolutions. Below are code examples which instantiate the convolutions with various hyper parameter settings."
      ]
    },
    {
      "cell_type": "code",
      "metadata": {
        "id": "D7QSq5LM_YVM",
        "colab": {
          "base_uri": "https://localhost:8080/"
        },
        "outputId": "be536c6b-84cf-416d-92fc-e629a5ab134c"
      },
      "source": [
        "import torch\n",
        "import torch.nn as nn\n",
        "\n",
        "x = torch.randn(1, 2, 3, 3)\n",
        "print('############### 1-Describ input:')\n",
        "describe(x)\n",
        "\n",
        "conv1 = nn.Conv2d(in_channels=2, out_channels=1, kernel_size=2)\n",
        "print('############### 2-Describe conv1.weght:')\n",
        "describe(conv1.weight)\n",
        "print('############### 3-Describe conv1(x):')\n",
        "describe(conv1(x))"
      ],
      "execution_count": null,
      "outputs": [
        {
          "output_type": "stream",
          "name": "stdout",
          "text": [
            "############### 1-Describ input:\n",
            "Type: torch.FloatTensor\n",
            "Shape/size: torch.Size([1, 2, 3, 3])\n",
            "Values: \n",
            "tensor([[[[ 4.8213e-01,  1.3940e-01, -8.9263e-04],\n",
            "          [-8.5121e-01, -2.9713e-01,  2.6191e-01],\n",
            "          [ 1.0586e+00, -1.2068e+00,  1.3321e+00]],\n",
            "\n",
            "         [[-8.8502e-01,  1.5941e-03,  3.7165e-01],\n",
            "          [ 6.9057e-02, -6.9986e-01, -3.8487e-01],\n",
            "          [ 6.6203e-01, -9.1416e-01,  2.3235e+00]]]])\n",
            "############### 4-Describe conv1.weght:\n",
            "Type: torch.FloatTensor\n",
            "Shape/size: torch.Size([1, 2, 2, 2])\n",
            "Values: \n",
            "Parameter containing:\n",
            "tensor([[[[ 0.0510, -0.3223],\n",
            "          [ 0.3051,  0.0431]],\n",
            "\n",
            "         [[-0.0567, -0.0198],\n",
            "          [-0.2322,  0.0896]]]], requires_grad=True)\n",
            "############### 3-Describe conv1(x):\n",
            "Type: torch.FloatTensor\n",
            "Shape/size: torch.Size([1, 1, 2, 2])\n",
            "Values: \n",
            "tensor([[[[-0.2139,  0.1562],\n",
            "          [ 0.2052,  0.1649]]]], grad_fn=<ConvolutionBackward0>)\n"
          ]
        }
      ]
    },
    {
      "cell_type": "markdown",
      "source": [
        "2 dimentional convolotion: nn.Conv2d"
      ],
      "metadata": {
        "id": "WDneaIiZ9zDs"
      }
    },
    {
      "cell_type": "code",
      "metadata": {
        "id": "Pmxj9JkZ_YVP",
        "colab": {
          "base_uri": "https://localhost:8080/"
        },
        "outputId": "0e775702-eaa6-4176-afce-2ed5013097b2"
      },
      "source": [
        "x = torch.randn(1, 1, 3, 3)\n",
        "describe(x)\n",
        "\n",
        "conv1 = nn.Conv2d(in_channels=1, out_channels=2, kernel_size=2)\n",
        "print('#################### 1-conv1.weight')\n",
        "describe(conv1.weight)\n",
        "print('#################### 2-conv1(x)')\n",
        "describe(conv1(x))"
      ],
      "execution_count": null,
      "outputs": [
        {
          "output_type": "stream",
          "name": "stdout",
          "text": [
            "Type: torch.FloatTensor\n",
            "Shape/size: torch.Size([1, 1, 3, 3])\n",
            "Values: \n",
            "tensor([[[[-0.0384,  0.7890, -0.2309],\n",
            "          [-0.1425,  0.8491, -0.1441],\n",
            "          [-0.3090,  1.3210, -1.3158]]]])\n",
            "#################### 1-conv1.weight\n",
            "Type: torch.FloatTensor\n",
            "Shape/size: torch.Size([2, 1, 2, 2])\n",
            "Values: \n",
            "Parameter containing:\n",
            "tensor([[[[ 0.2173,  0.2795],\n",
            "          [-0.0544, -0.3163]]],\n",
            "\n",
            "\n",
            "        [[[-0.3081,  0.0766],\n",
            "          [-0.4440, -0.4006]]]], requires_grad=True)\n",
            "#################### 2-conv1(x)\n",
            "Type: torch.FloatTensor\n",
            "Shape/size: torch.Size([1, 2, 2, 2])\n",
            "Values: \n",
            "tensor([[[[ 0.2852,  0.4402],\n",
            "          [ 0.1392,  0.8226]],\n",
            "\n",
            "         [[ 0.2249, -0.1505],\n",
            "          [ 0.1464,  0.0975]]]], grad_fn=<ConvolutionBackward0>)\n"
          ]
        }
      ]
    },
    {
      "cell_type": "markdown",
      "source": [
        "Loss Functions: Mean Squared Error Loss\n",
        "\n",
        "\n",
        "A regression is a statistical technique that relates a dependent variable to one or more independent (explanatory) variables.\n",
        "\n",
        "\n",
        "For regression problems for which the network’s output (ŷ) and the target (y) are continuous values, one common loss function is the mean squared error (MSE):\n"
      ],
      "metadata": {
        "id": "z5UgPG8qGy8I"
      }
    },
    {
      "cell_type": "markdown",
      "source": [
        "![image.png](data:image/png;base64,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)"
      ],
      "metadata": {
        "id": "xWS45sjFIguP"
      }
    },
    {
      "cell_type": "markdown",
      "source": [
        "The MSE is simply the average of the squares of the difference between the predicted\n",
        "and target values."
      ],
      "metadata": {
        "id": "V503G8CvJE4v"
      }
    },
    {
      "cell_type": "markdown",
      "metadata": {
        "id": "kHDQzFJPrBad"
      },
      "source": [
        "After describing the structure of a neural network, You need to train the network. Please see the following link to learn what is different steps to train a simple neural network:\n",
        "https://pytorch.org/tutorials/beginner/blitz/cifar10_tutorial.html\n"
      ]
    },
    {
      "cell_type": "code",
      "source": [
        "import torch\n",
        "import torch.nn as nn\n",
        "mse_loss = nn.MSELoss()\n",
        "outputs = torch.randn(3, 5, requires_grad=True)\n",
        "targets = torch.randn(3, 5)\n",
        "loss = mse_loss(outputs, targets)\n",
        "print(loss)\n"
      ],
      "metadata": {
        "colab": {
          "base_uri": "https://localhost:8080/"
        },
        "id": "s6pE_WMkIUAV",
        "outputId": "932e629d-3202-4539-c243-874946540ea3"
      },
      "execution_count": null,
      "outputs": [
        {
          "output_type": "stream",
          "name": "stdout",
          "text": [
            "tensor(3.1692, grad_fn=<MseLossBackward0>)\n"
          ]
        }
      ]
    },
    {
      "cell_type": "markdown",
      "source": [
        "[1] Natural language processing with PyTorch: build intelligent language applications using deep learning\\\n",
        "\n",
        "CHAPTER 3\n",
        "Foundational Components of\n",
        "Neural Networks\n",
        "\n",
        "[2]What is Regression? Definition, Calculation, and Example\n",
        "\n",
        " https://www.investopedia.com/terms/r/regression.asp#:~:text=A%20regression%20is%20a%20statistical,more%20of%20the%20explanatory%20variables."
      ],
      "metadata": {
        "id": "BdKPN18HHa_i"
      }
    }
  ]
}